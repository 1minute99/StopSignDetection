{
 "cells": [
  {
   "cell_type": "code",
   "execution_count": 2,
   "metadata": {},
   "outputs": [
    {
     "name": "stdout",
     "output_type": "stream",
     "text": [
      "dataset_record/positive/Movie on 8-1-25 at 10.53 AM #2.mov -> 120 frames saved\n",
      "dataset_record/positive/Movie on 8-1-25 at 10.54 AM.mov -> 124 frames saved\n",
      "dataset_record/positive/Movie on 8-1-25 at 10.54 AM #2.mov -> 121 frames saved\n",
      "dataset_record/positive/Movie on 8-1-25 at 10.52 AM.mov -> 117 frames saved\n",
      "dataset_record/positive/IMG_2603.mov -> 169 frames saved\n",
      "dataset_record/positive/Movie on 8-1-25 at 10.53 AM.mov -> 94 frames saved\n",
      "dataset_record/negative/Movie on 8-1-25 at 10.56 AM.mov -> 175 frames saved\n",
      "dataset_record/negative/Movie on 8-1-25 at 10.57 AM.mov -> 233 frames saved\n",
      "dataset_record/negative/IMG_2602.mov -> 353 frames saved\n",
      "dataset_record/negative/IMG_2604.mov -> 177 frames saved\n",
      "dataset_record/negative/Movie on 8-1-25 at 10.59 AM.mov -> 138 frames saved\n",
      "dataset_record/negative/Movie on 8-1-25 at 10.55 AM.mov -> 196 frames saved\n"
     ]
    }
   ],
   "source": [
    "import cv2\n",
    "import os\n",
    "from glob import glob\n",
    "\n",
    "# input/output\n",
    "input_root = \"dataset_record\"\n",
    "output_root = \"dataset_images\"\n",
    "os.makedirs(output_root, exist_ok=True)\n",
    "\n",
    "# classes\n",
    "classes = [\"positive\", \"negative\"]\n",
    "\n",
    "# FPS setting\n",
    "extract_fps = 5  # extract 5 frame per second\n",
    "\n",
    "for cls in classes:\n",
    "    video_files = glob(os.path.join(input_root, cls, \"*.mov\"))\n",
    "    save_dir = os.path.join(output_root, cls)\n",
    "    os.makedirs(save_dir, exist_ok=True)\n",
    "    \n",
    "    for video_path in video_files:\n",
    "        cap = cv2.VideoCapture(video_path)\n",
    "        fps = cap.get(cv2.CAP_PROP_FPS)\n",
    "        frame_interval = int(fps / extract_fps)\n",
    "        \n",
    "        count = 0\n",
    "        saved = 0\n",
    "        base_name = os.path.splitext(os.path.basename(video_path))[0]\n",
    "        \n",
    "        while cap.isOpened():\n",
    "            ret, frame = cap.read()\n",
    "            if not ret:\n",
    "                break\n",
    "            if count % frame_interval == 0:\n",
    "                img_name = f\"{base_name}_{saved:04d}.jpg\"\n",
    "                cv2.imwrite(os.path.join(save_dir, img_name), frame)\n",
    "                saved += 1\n",
    "            count += 1\n",
    "        \n",
    "        cap.release()\n",
    "        print(f\"{video_path} -> {saved} frames saved\")"
   ]
  },
  {
   "cell_type": "code",
   "execution_count": null,
   "metadata": {},
   "outputs": [],
   "source": []
  }
 ],
 "metadata": {
  "kernelspec": {
   "display_name": ".conda",
   "language": "python",
   "name": "python3"
  },
  "language_info": {
   "codemirror_mode": {
    "name": "ipython",
    "version": 3
   },
   "file_extension": ".py",
   "mimetype": "text/x-python",
   "name": "python",
   "nbconvert_exporter": "python",
   "pygments_lexer": "ipython3",
   "version": "3.10.18"
  }
 },
 "nbformat": 4,
 "nbformat_minor": 2
}
